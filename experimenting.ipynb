{
 "cells": [
  {
   "cell_type": "code",
   "execution_count": 1,
   "id": "bfd6d9be",
   "metadata": {},
   "outputs": [
    {
     "name": "stderr",
     "output_type": "stream",
     "text": [
      "/Users/zachary.garcia/Learning/zeus-groos-ai/venv/lib/python3.9/site-packages/urllib3/__init__.py:35: NotOpenSSLWarning: urllib3 v2 only supports OpenSSL 1.1.1+, currently the 'ssl' module is compiled with 'LibreSSL 2.8.3'. See: https://github.com/urllib3/urllib3/issues/3020\n",
      "  warnings.warn(\n"
     ]
    },
    {
     "data": {
      "text/plain": [
       "True"
      ]
     },
     "execution_count": 1,
     "metadata": {},
     "output_type": "execute_result"
    }
   ],
   "source": [
    "import os\n",
    "import requests\n",
    "from dotenv import load_dotenv\n",
    "\n",
    "load_dotenv()"
   ]
  },
  {
   "cell_type": "code",
   "execution_count": 3,
   "id": "6fbac921",
   "metadata": {},
   "outputs": [],
   "source": [
    "def refresh_access_token():\n",
    "    res = requests.post(\n",
    "        \"https://www.strava.com/oauth/token\",\n",
    "        data={\n",
    "            \"client_id\": os.getenv(\"STRAVA_CLIENT_ID\"),\n",
    "            \"client_secret\": os.getenv(\"STRAVA_CLIENT_SECRET\"),\n",
    "            \"refresh_token\": os.getenv(\"STRAVA_REFRESH_TOKEN\"),\n",
    "            \"grant_type\": \"refresh_token\",\n",
    "        }\n",
    "    )\n",
    "    print(res.status_code)\n",
    "    print(res.json())\n",
    "    res.raise_for_status()\n",
    "    return res.json()[\"access_token\"]"
   ]
  },
  {
   "cell_type": "code",
   "execution_count": 11,
   "id": "10aed766",
   "metadata": {},
   "outputs": [],
   "source": [
    "def get_strava_activities(access_token, per_page=5):\n",
    "    url = \"https://www.strava.com/api/v3/athlete/activities\"\n",
    "    headers = {\"Authorization\": f\"Bearer {access_token}\"}\n",
    "    params = {\"per_page\": per_page}\n",
    "    \n",
    "    response = requests.get(url, headers=headers, params=params)\n",
    "    response.raise_for_status()\n",
    "    return response.json()"
   ]
  },
  {
   "cell_type": "code",
   "execution_count": 14,
   "id": "3e746529",
   "metadata": {},
   "outputs": [
    {
     "name": "stdout",
     "output_type": "stream",
     "text": [
      "200\n",
      "{'token_type': 'Bearer', 'access_token': '75fd1dc9f99b9743d0e95a1012c6f9510f0ece36', 'expires_at': 1748581631, 'expires_in': 18617, 'refresh_token': 'c280cb6536c00d9cbcd05b660423cb5ee91e34c8'}\n"
     ]
    }
   ],
   "source": [
    "token_data = refresh_access_token()\n",
    "\n",
    "strava_data = get_strava_activities(token_data)\n"
   ]
  },
  {
   "cell_type": "code",
   "execution_count": 22,
   "id": "4f330857",
   "metadata": {},
   "outputs": [
    {
     "data": {
      "text/plain": [
       "dict"
      ]
     },
     "execution_count": 22,
     "metadata": {},
     "output_type": "execute_result"
    }
   ],
   "source": [
    "type(strava_data[1])"
   ]
  },
  {
   "cell_type": "code",
   "execution_count": 27,
   "id": "faa5399e",
   "metadata": {},
   "outputs": [
    {
     "ename": "SyntaxError",
     "evalue": "invalid syntax (1239936607.py, line 1)",
     "output_type": "error",
     "traceback": [
      "\u001b[0;36m  Cell \u001b[0;32mIn[27], line 1\u001b[0;36m\u001b[0m\n\u001b[0;31m    import pandas pd\u001b[0m\n\u001b[0m                  ^\u001b[0m\n\u001b[0;31mSyntaxError\u001b[0m\u001b[0;31m:\u001b[0m invalid syntax\n"
     ]
    }
   ],
   "source": [
    "import pandas pd\n",
    "\n",
    "df = pd.DataFrame(strava_data)\n"
   ]
  },
  {
   "cell_type": "code",
   "execution_count": null,
   "id": "e9d89199",
   "metadata": {},
   "outputs": [],
   "source": []
  }
 ],
 "metadata": {
  "kernelspec": {
   "display_name": "Python (zeus-groos-ai)",
   "language": "python",
   "name": "zeus-groos-ai"
  },
  "language_info": {
   "codemirror_mode": {
    "name": "ipython",
    "version": 3
   },
   "file_extension": ".py",
   "mimetype": "text/x-python",
   "name": "python",
   "nbconvert_exporter": "python",
   "pygments_lexer": "ipython3",
   "version": "3.9.6"
  }
 },
 "nbformat": 4,
 "nbformat_minor": 5
}
