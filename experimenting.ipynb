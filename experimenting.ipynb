{
 "cells": [
  {
   "cell_type": "code",
   "execution_count": 128,
   "id": "bfd6d9be",
   "metadata": {},
   "outputs": [
    {
     "data": {
      "text/plain": [
       "True"
      ]
     },
     "execution_count": 128,
     "metadata": {},
     "output_type": "execute_result"
    }
   ],
   "source": [
    "import os\n",
    "import requests\n",
    "import pandas as pd\n",
    "from openai import OpenAI\n",
    "from datetime import datetime\n",
    "from twilio.rest import Client\n",
    "\n",
    "from dotenv import load_dotenv\n",
    "\n",
    "load_dotenv()"
   ]
  },
  {
   "cell_type": "code",
   "execution_count": 82,
   "id": "6fbac921",
   "metadata": {},
   "outputs": [],
   "source": [
    "def refresh_access_token():\n",
    "    res = requests.post(\n",
    "        \"https://www.strava.com/oauth/token\",\n",
    "        data={\n",
    "            \"client_id\": os.getenv(\"STRAVA_CLIENT_ID\"),\n",
    "            \"client_secret\": os.getenv(\"STRAVA_CLIENT_SECRET\"),\n",
    "            \"refresh_token\": os.getenv(\"STRAVA_REFRESH_TOKEN\"),\n",
    "            \"grant_type\": \"refresh_token\",\n",
    "        }\n",
    "    )\n",
    "    print(res.status_code)\n",
    "    print(res.json())\n",
    "    res.raise_for_status()\n",
    "    return res.json()[\"access_token\"]"
   ]
  },
  {
   "cell_type": "code",
   "execution_count": 83,
   "id": "10aed766",
   "metadata": {},
   "outputs": [],
   "source": [
    "def get_strava_activities(access_token, per_page=5):\n",
    "    url = \"https://www.strava.com/api/v3/athlete/activities\"\n",
    "    headers = {\"Authorization\": f\"Bearer {access_token}\"}\n",
    "    params = {\"per_page\": per_page}\n",
    "    \n",
    "    response = requests.get(url, headers=headers, params=params)\n",
    "    response.raise_for_status()\n",
    "    return response.json()"
   ]
  },
  {
   "cell_type": "code",
   "execution_count": null,
   "id": "3e746529",
   "metadata": {},
   "outputs": [
    {
     "name": "stdout",
     "output_type": "stream",
     "text": [
      "200\n",
      "{'token_type': 'Bearer', 'access_token': '51e877d88b10b5f79b5a1f4c763dd44e4a3bdd24', 'expires_at': 1748647824, 'expires_in': 21600, 'refresh_token': 'c280cb6536c00d9cbcd05b660423cb5ee91e34c8'}\n"
     ]
    }
   ],
   "source": [
    "# get access token\n",
    "token_data = refresh_access_token()\n",
    "# call up strava\n",
    "strava_data = get_strava_activities(access_token=token_data, per_page=10)\n"
   ]
  },
  {
   "cell_type": "code",
   "execution_count": 86,
   "id": "faa5399e",
   "metadata": {},
   "outputs": [],
   "source": [
    "strava_results = pd.DataFrame(strava_data)"
   ]
  },
  {
   "cell_type": "code",
   "execution_count": 109,
   "id": "abb16cf4",
   "metadata": {},
   "outputs": [],
   "source": [
    "strava_results['moving_time_mins'] = round(strava_results['moving_time']/60, 1)\n",
    "strava_results['distance_miles'] = round(strava_results['distance']/1609.34, 2)\n",
    "strava_results['elevation_gain_ft'] = round(strava_results['total_elevation_gain']*3.281, 1)\n"
   ]
  },
  {
   "cell_type": "code",
   "execution_count": 110,
   "id": "fdc6fde9",
   "metadata": {},
   "outputs": [],
   "source": [
    "filtered_strava_results = strava_results[['distance_miles', 'moving_time_mins', 'elevation_gain_ft', 'type', 'start_date_local', 'average_speed', 'average_heartrate', 'max_heartrate']]"
   ]
  },
  {
   "cell_type": "code",
   "execution_count": 111,
   "id": "e9d89199",
   "metadata": {},
   "outputs": [
    {
     "data": {
      "text/html": [
       "<div>\n",
       "<style scoped>\n",
       "    .dataframe tbody tr th:only-of-type {\n",
       "        vertical-align: middle;\n",
       "    }\n",
       "\n",
       "    .dataframe tbody tr th {\n",
       "        vertical-align: top;\n",
       "    }\n",
       "\n",
       "    .dataframe thead th {\n",
       "        text-align: right;\n",
       "    }\n",
       "</style>\n",
       "<table border=\"1\" class=\"dataframe\">\n",
       "  <thead>\n",
       "    <tr style=\"text-align: right;\">\n",
       "      <th></th>\n",
       "      <th>distance_miles</th>\n",
       "      <th>moving_time_mins</th>\n",
       "      <th>elevation_gain_ft</th>\n",
       "      <th>type</th>\n",
       "      <th>start_date_local</th>\n",
       "      <th>average_speed</th>\n",
       "      <th>average_heartrate</th>\n",
       "      <th>max_heartrate</th>\n",
       "    </tr>\n",
       "  </thead>\n",
       "  <tbody>\n",
       "    <tr>\n",
       "      <th>0</th>\n",
       "      <td>3.02</td>\n",
       "      <td>40.5</td>\n",
       "      <td>112.9</td>\n",
       "      <td>Run</td>\n",
       "      <td>2025-05-28T17:35:23Z</td>\n",
       "      <td>1.995</td>\n",
       "      <td>145.0</td>\n",
       "      <td>158.0</td>\n",
       "    </tr>\n",
       "    <tr>\n",
       "      <th>1</th>\n",
       "      <td>8.53</td>\n",
       "      <td>97.3</td>\n",
       "      <td>369.4</td>\n",
       "      <td>Run</td>\n",
       "      <td>2025-05-26T11:52:59Z</td>\n",
       "      <td>2.352</td>\n",
       "      <td>169.3</td>\n",
       "      <td>187.0</td>\n",
       "    </tr>\n",
       "    <tr>\n",
       "      <th>2</th>\n",
       "      <td>4.99</td>\n",
       "      <td>55.8</td>\n",
       "      <td>0.0</td>\n",
       "      <td>Run</td>\n",
       "      <td>2025-05-23T09:14:03Z</td>\n",
       "      <td>2.394</td>\n",
       "      <td>161.9</td>\n",
       "      <td>180.0</td>\n",
       "    </tr>\n",
       "    <tr>\n",
       "      <th>3</th>\n",
       "      <td>6.01</td>\n",
       "      <td>68.7</td>\n",
       "      <td>168.0</td>\n",
       "      <td>Run</td>\n",
       "      <td>2025-05-20T07:30:00Z</td>\n",
       "      <td>2.347</td>\n",
       "      <td>163.2</td>\n",
       "      <td>180.0</td>\n",
       "    </tr>\n",
       "    <tr>\n",
       "      <th>4</th>\n",
       "      <td>4.12</td>\n",
       "      <td>92.2</td>\n",
       "      <td>874.1</td>\n",
       "      <td>Walk</td>\n",
       "      <td>2025-05-19T19:45:26Z</td>\n",
       "      <td>1.200</td>\n",
       "      <td>102.8</td>\n",
       "      <td>161.0</td>\n",
       "    </tr>\n",
       "    <tr>\n",
       "      <th>5</th>\n",
       "      <td>5.50</td>\n",
       "      <td>73.8</td>\n",
       "      <td>232.3</td>\n",
       "      <td>Run</td>\n",
       "      <td>2025-05-18T17:34:04Z</td>\n",
       "      <td>1.999</td>\n",
       "      <td>149.7</td>\n",
       "      <td>170.0</td>\n",
       "    </tr>\n",
       "    <tr>\n",
       "      <th>6</th>\n",
       "      <td>4.51</td>\n",
       "      <td>52.8</td>\n",
       "      <td>34.8</td>\n",
       "      <td>Run</td>\n",
       "      <td>2025-05-16T10:10:11Z</td>\n",
       "      <td>2.293</td>\n",
       "      <td>174.4</td>\n",
       "      <td>192.0</td>\n",
       "    </tr>\n",
       "    <tr>\n",
       "      <th>7</th>\n",
       "      <td>2.55</td>\n",
       "      <td>29.1</td>\n",
       "      <td>207.0</td>\n",
       "      <td>Run</td>\n",
       "      <td>2025-05-13T12:47:05Z</td>\n",
       "      <td>2.354</td>\n",
       "      <td>163.2</td>\n",
       "      <td>182.0</td>\n",
       "    </tr>\n",
       "    <tr>\n",
       "      <th>8</th>\n",
       "      <td>6.04</td>\n",
       "      <td>69.5</td>\n",
       "      <td>207.0</td>\n",
       "      <td>Run</td>\n",
       "      <td>2025-05-11T12:53:14Z</td>\n",
       "      <td>2.334</td>\n",
       "      <td>169.3</td>\n",
       "      <td>189.0</td>\n",
       "    </tr>\n",
       "    <tr>\n",
       "      <th>9</th>\n",
       "      <td>3.54</td>\n",
       "      <td>42.0</td>\n",
       "      <td>143.4</td>\n",
       "      <td>Run</td>\n",
       "      <td>2025-05-06T09:55:27Z</td>\n",
       "      <td>2.263</td>\n",
       "      <td>172.2</td>\n",
       "      <td>188.0</td>\n",
       "    </tr>\n",
       "  </tbody>\n",
       "</table>\n",
       "</div>"
      ],
      "text/plain": [
       "   distance_miles  moving_time_mins  elevation_gain_ft  type  \\\n",
       "0            3.02              40.5              112.9   Run   \n",
       "1            8.53              97.3              369.4   Run   \n",
       "2            4.99              55.8                0.0   Run   \n",
       "3            6.01              68.7              168.0   Run   \n",
       "4            4.12              92.2              874.1  Walk   \n",
       "5            5.50              73.8              232.3   Run   \n",
       "6            4.51              52.8               34.8   Run   \n",
       "7            2.55              29.1              207.0   Run   \n",
       "8            6.04              69.5              207.0   Run   \n",
       "9            3.54              42.0              143.4   Run   \n",
       "\n",
       "       start_date_local  average_speed  average_heartrate  max_heartrate  \n",
       "0  2025-05-28T17:35:23Z          1.995              145.0          158.0  \n",
       "1  2025-05-26T11:52:59Z          2.352              169.3          187.0  \n",
       "2  2025-05-23T09:14:03Z          2.394              161.9          180.0  \n",
       "3  2025-05-20T07:30:00Z          2.347              163.2          180.0  \n",
       "4  2025-05-19T19:45:26Z          1.200              102.8          161.0  \n",
       "5  2025-05-18T17:34:04Z          1.999              149.7          170.0  \n",
       "6  2025-05-16T10:10:11Z          2.293              174.4          192.0  \n",
       "7  2025-05-13T12:47:05Z          2.354              163.2          182.0  \n",
       "8  2025-05-11T12:53:14Z          2.334              169.3          189.0  \n",
       "9  2025-05-06T09:55:27Z          2.263              172.2          188.0  "
      ]
     },
     "execution_count": 111,
     "metadata": {},
     "output_type": "execute_result"
    }
   ],
   "source": [
    "filtered_strava_results"
   ]
  },
  {
   "cell_type": "code",
   "execution_count": 126,
   "id": "23f6077c",
   "metadata": {},
   "outputs": [
    {
     "name": "stdout",
     "output_type": "stream",
     "text": [
      "Today is 2025-05-30.\n",
      "Here are my last 5 Strava activities:\n",
      "2025-05-28: Run - 3.02 mi, 40.5 min, 113 ft gain, Avg HR: 145, Max HR: 158\n",
      "2025-05-26: Run - 8.53 mi, 97.3 min, 369 ft gain, Avg HR: 169, Max HR: 187\n",
      "2025-05-23: Run - 4.99 mi, 55.8 min, 0 ft gain, Avg HR: 162, Max HR: 180\n",
      "2025-05-20: Run - 6.01 mi, 68.7 min, 168 ft gain, Avg HR: 163, Max HR: 180\n",
      "2025-05-19: Walk - 4.12 mi, 92.2 min, 874 ft gain, Avg HR: 103, Max HR: 161\n",
      "\n",
      "Please send me a good morning text message that includes the following:\n",
      "    - an encouraging message about my recent strava activity\n",
      "    - today's date\n",
      "    - an interesting fact about san francisco native plants, animals, or history\n"
     ]
    }
   ],
   "source": [
    "# Sort and get the latest 5 activities (already sorted in your screenshot, but just in case)\n",
    "df = filtered_strava_results.sort_values(\"start_date_local\", ascending=False).head(5)\n",
    "\n",
    "# Format each activity for the prompt\n",
    "activity_lines = []\n",
    "for _, row in df.iterrows():\n",
    "    date = pd.to_datetime(row['start_date_local']).strftime('%Y-%m-%d')\n",
    "    activity_type = row['type']\n",
    "    distance = f\"{row['distance_miles']:.2f} mi\"\n",
    "    time = f\"{row['moving_time_mins']:.1f} min\"\n",
    "    elev = f\"{row['elevation_gain_ft']:.0f} ft\"\n",
    "    avg_hr = f\"{row['average_heartrate']:.0f}\" if not pd.isnull(row['average_heartrate']) else \"N/A\"\n",
    "    max_hr = f\"{row['max_heartrate']:.0f}\" if not pd.isnull(row['max_heartrate']) else \"N/A\"\n",
    "    line = f\"{date}: {activity_type} - {distance}, {time}, {elev} gain, Avg HR: {avg_hr}, Max HR: {max_hr}\"\n",
    "    activity_lines.append(line)\n",
    "\n",
    "# add date\n",
    "today = datetime.now().strftime(\"%Y-%m-%d\")\n",
    "\n",
    "# Create the prompt\n",
    "activity_str = \"\\n\".join(activity_lines)\n",
    "prompt = (\n",
    "    f\"Today is {today}.\\n\"\n",
    "    \"Here are my last 5 Strava activities:\\n\"\n",
    "    f\"{activity_str}\\n\\n\"\n",
    "    \"\"\"Please send me a good morning text message that includes the following:\n",
    "    - an encouraging message about my recent strava activity\n",
    "    - today's date\n",
    "    - an interesting fact about san francisco native plants, animals, or history\"\"\"\n",
    ")\n",
    "\n",
    "print(prompt)"
   ]
  },
  {
   "cell_type": "code",
   "execution_count": 127,
   "id": "c32a0afb",
   "metadata": {},
   "outputs": [
    {
     "name": "stdout",
     "output_type": "stream",
     "text": [
      "Good morning, Zach! 🌞  \n",
      "Today is May 30, 2025.\n",
      "\n",
      "I’m proud of your consistency and perseverance—your last five Strava activities show a steady commitment to your half marathon training. That recent 8.5-mile run at a strong pace and heart rate is a great sign of your progress. Keep listening to your body and trust in your training; you’re building serious strength for your marathon goals!\n",
      "\n",
      "Here’s a little local inspiration: Did you know that the San Francisco garter snake is one of the most beautiful and endangered snakes in North America? Found only in the San Francisco Peninsula, its striking red, black, and turquoise stripes stand out just like your dedication stands out in your training log!  \n",
      "\n",
      "Let’s keep moving forward—one step at a time! 🏃‍♂️✨\n"
     ]
    }
   ],
   "source": [
    "client = OpenAI()\n",
    "\n",
    "# NOTES ON PROMPT ENGINEERING\n",
    "# -- If you say it's an expert on history of SF as well as local flora/fauna and then ask for a fact, every fact will be about GGP being bigger than central park\n",
    "# -- chatGPT seems to hallucinate a lot more via API than in the GUI even for the exact same model/prompt.\n",
    "\n",
    "response = client.responses.create(\n",
    "    model=\"gpt-4.1\",\n",
    "    instructions=\"\"\"You are a supportive life coach and personal trainer named Zeus Groos. You are also knowledgeable\n",
    "        about the history of San Francisco as well as local flora and fauna. You do not make up any information and only say \n",
    "        things that you know to be true. Your trainee, Zach, is training for the New York Marathon on November 3 2025.\n",
    "        He is doing a half marathon training program that ends on June 29 and then he'll begin the full marathon training program.\"\"\",\n",
    "    input=prompt,\n",
    ")\n",
    "\n",
    "print(response.output_text)"
   ]
  },
  {
   "cell_type": "code",
   "execution_count": 140,
   "id": "ba9e4dbc",
   "metadata": {},
   "outputs": [
    {
     "name": "stdout",
     "output_type": "stream",
     "text": [
      "Message sent! SID: SM1ca699bcd8ceb8f14052d08e60914193\n",
      "Message status: queued\n"
     ]
    }
   ],
   "source": [
    "# Load environment variables from .env file\n",
    "load_dotenv()\n",
    "\n",
    "account_sid = os.getenv(\"TWILIO_ACCOUNT_SID\")\n",
    "auth_token = os.getenv(\"TWILIO_AUTH_TOKEN\")\n",
    "twilio_number = os.getenv(\"TWILIO_PHONE_NUMBER\")\n",
    "my_cell = os.getenv(\"MY_CELL_NUMBER\")\n",
    "# my_cell = \"+17147560044\"\n",
    "\n",
    "twilio_client = Client(account_sid, auth_token)\n",
    "\n",
    "message = twilio_client.messages.create(\n",
    "    body=\"Sent from your Twilio trial account - Hello from Twilio!\",\n",
    "    from_=twilio_number,\n",
    "    to=my_cell\n",
    ")\n",
    "\n",
    "print(f\"Message sent! SID: {message.sid}\")\n",
    "print(f\"Message status: {message.status}\")"
   ]
  },
  {
   "cell_type": "code",
   "execution_count": 141,
   "id": "70ccb71a",
   "metadata": {},
   "outputs": [
    {
     "name": "stdout",
     "output_type": "stream",
     "text": [
      "Final message status: undelivered\n",
      "Error code: 30032\n",
      "Error message: None\n"
     ]
    }
   ],
   "source": [
    "# Fetch the message again to check delivery status\n",
    "fetched_message = twilio_client.messages(message.sid).fetch()\n",
    "print(f\"Final message status: {fetched_message.status}\")\n",
    "print(f\"Error code: {fetched_message.error_code}\")\n",
    "print(f\"Error message: {fetched_message.error_message}\")"
   ]
  },
  {
   "cell_type": "code",
   "execution_count": null,
   "id": "4d6b9acf",
   "metadata": {},
   "outputs": [],
   "source": []
  },
  {
   "cell_type": "code",
   "execution_count": null,
   "id": "3fa1c609",
   "metadata": {},
   "outputs": [],
   "source": []
  }
 ],
 "metadata": {
  "kernelspec": {
   "display_name": "Python (zeus-groos-ai)",
   "language": "python",
   "name": "zeus-groos-ai"
  },
  "language_info": {
   "codemirror_mode": {
    "name": "ipython",
    "version": 3
   },
   "file_extension": ".py",
   "mimetype": "text/x-python",
   "name": "python",
   "nbconvert_exporter": "python",
   "pygments_lexer": "ipython3",
   "version": "3.9.6"
  }
 },
 "nbformat": 4,
 "nbformat_minor": 5
}
