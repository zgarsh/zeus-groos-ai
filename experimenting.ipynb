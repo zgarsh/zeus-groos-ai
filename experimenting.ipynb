{
 "cells": [
  {
   "cell_type": "code",
   "execution_count": 19,
   "id": "bfd6d9be",
   "metadata": {},
   "outputs": [
    {
     "data": {
      "text/plain": [
       "True"
      ]
     },
     "execution_count": 19,
     "metadata": {},
     "output_type": "execute_result"
    }
   ],
   "source": [
    "import os\n",
    "import requests\n",
    "import pandas as pd\n",
    "from openai import OpenAI\n",
    "from datetime import datetime\n",
    "# from twilio.rest import Client\n",
    "import smtplib\n",
    "from email.mime.text import MIMEText\n",
    "\n",
    "from dotenv import load_dotenv\n",
    "\n",
    "load_dotenv()"
   ]
  },
  {
   "cell_type": "code",
   "execution_count": 4,
   "id": "6fbac921",
   "metadata": {},
   "outputs": [],
   "source": [
    "def refresh_access_token():\n",
    "    res = requests.post(\n",
    "        \"https://www.strava.com/oauth/token\",\n",
    "        data={\n",
    "            \"client_id\": os.getenv(\"STRAVA_CLIENT_ID\"),\n",
    "            \"client_secret\": os.getenv(\"STRAVA_CLIENT_SECRET\"),\n",
    "            \"refresh_token\": os.getenv(\"STRAVA_REFRESH_TOKEN\"),\n",
    "            \"grant_type\": \"refresh_token\",\n",
    "        }\n",
    "    )\n",
    "    print(res.status_code)\n",
    "    print(res.json())\n",
    "    res.raise_for_status()\n",
    "    return res.json()[\"access_token\"]\n",
    "\n",
    "def get_strava_activities(access_token, per_page=5):\n",
    "    url = \"https://www.strava.com/api/v3/athlete/activities\"\n",
    "    headers = {\"Authorization\": f\"Bearer {access_token}\"}\n",
    "    params = {\"per_page\": per_page}\n",
    "    \n",
    "    response = requests.get(url, headers=headers, params=params)\n",
    "    response.raise_for_status()\n",
    "    return response.json()"
   ]
  },
  {
   "cell_type": "code",
   "execution_count": 5,
   "id": "3e746529",
   "metadata": {},
   "outputs": [],
   "source": [
    "# # get strava access token\n",
    "# token_data = refresh_access_token()\n",
    "# # call up strava\n",
    "# strava_data = get_strava_activities(access_token=token_data, per_page=10)\n"
   ]
  },
  {
   "cell_type": "code",
   "execution_count": 6,
   "id": "41307f8b",
   "metadata": {},
   "outputs": [],
   "source": [
    "# one function to get token, call strava, and return formatted dataframe with latest events\n",
    "\n",
    "def call_strava_and_format_response(activity_count=10):\n",
    "    \"\"\"this gets a refreshed strava access token, calls strava to get latest n activities,\n",
    "    formats them with better units, and drops unnecessary columns. It returns a pd df wih 10 rows in\n",
    "    descending order by date\"\"\"\n",
    "    # get strava access token\n",
    "    token_data = refresh_access_token()\n",
    "    # call up strava\n",
    "    strava_data = get_strava_activities(access_token=token_data, per_page=activity_count)\n",
    "\n",
    "    strava_results = pd.DataFrame(strava_data)\n",
    "\n",
    "    strava_results['moving_time_mins'] = round(strava_results['moving_time']/60, 1)\n",
    "    strava_results['distance_miles'] = round(strava_results['distance']/1609.34, 2)\n",
    "    strava_results['elevation_gain_ft'] = round(strava_results['total_elevation_gain']*3.281, 1)\n",
    "\n",
    "    filtered_strava_results = strava_results[['distance_miles', 'moving_time_mins', 'elevation_gain_ft', 'type', 'start_date_local', 'average_speed', 'average_heartrate', 'max_heartrate']]\n",
    "\n",
    "\n",
    "    return filtered_strava_results\n"
   ]
  },
  {
   "cell_type": "code",
   "execution_count": 7,
   "id": "bf61e6ae",
   "metadata": {},
   "outputs": [
    {
     "name": "stdout",
     "output_type": "stream",
     "text": [
      "200\n",
      "{'token_type': 'Bearer', 'access_token': '4f753b27c4216883055dd2ed091a62032add4821', 'expires_at': 1748989269, 'expires_in': 21026, 'refresh_token': 'c280cb6536c00d9cbcd05b660423cb5ee91e34c8'}\n"
     ]
    },
    {
     "data": {
      "text/html": [
       "<div>\n",
       "<style scoped>\n",
       "    .dataframe tbody tr th:only-of-type {\n",
       "        vertical-align: middle;\n",
       "    }\n",
       "\n",
       "    .dataframe tbody tr th {\n",
       "        vertical-align: top;\n",
       "    }\n",
       "\n",
       "    .dataframe thead th {\n",
       "        text-align: right;\n",
       "    }\n",
       "</style>\n",
       "<table border=\"1\" class=\"dataframe\">\n",
       "  <thead>\n",
       "    <tr style=\"text-align: right;\">\n",
       "      <th></th>\n",
       "      <th>distance_miles</th>\n",
       "      <th>moving_time_mins</th>\n",
       "      <th>elevation_gain_ft</th>\n",
       "      <th>type</th>\n",
       "      <th>start_date_local</th>\n",
       "      <th>average_speed</th>\n",
       "      <th>average_heartrate</th>\n",
       "      <th>max_heartrate</th>\n",
       "    </tr>\n",
       "  </thead>\n",
       "  <tbody>\n",
       "    <tr>\n",
       "      <th>0</th>\n",
       "      <td>5.01</td>\n",
       "      <td>58.2</td>\n",
       "      <td>138.5</td>\n",
       "      <td>Run</td>\n",
       "      <td>2025-06-01T13:08:00Z</td>\n",
       "      <td>2.308</td>\n",
       "      <td>159.2</td>\n",
       "      <td>180.0</td>\n",
       "    </tr>\n",
       "    <tr>\n",
       "      <th>1</th>\n",
       "      <td>3.02</td>\n",
       "      <td>40.5</td>\n",
       "      <td>112.9</td>\n",
       "      <td>Run</td>\n",
       "      <td>2025-05-28T17:35:23Z</td>\n",
       "      <td>1.995</td>\n",
       "      <td>145.0</td>\n",
       "      <td>158.0</td>\n",
       "    </tr>\n",
       "    <tr>\n",
       "      <th>2</th>\n",
       "      <td>8.53</td>\n",
       "      <td>97.3</td>\n",
       "      <td>369.4</td>\n",
       "      <td>Run</td>\n",
       "      <td>2025-05-26T11:52:59Z</td>\n",
       "      <td>2.352</td>\n",
       "      <td>169.3</td>\n",
       "      <td>187.0</td>\n",
       "    </tr>\n",
       "    <tr>\n",
       "      <th>3</th>\n",
       "      <td>4.99</td>\n",
       "      <td>55.8</td>\n",
       "      <td>0.0</td>\n",
       "      <td>Run</td>\n",
       "      <td>2025-05-23T09:14:03Z</td>\n",
       "      <td>2.394</td>\n",
       "      <td>161.9</td>\n",
       "      <td>180.0</td>\n",
       "    </tr>\n",
       "    <tr>\n",
       "      <th>4</th>\n",
       "      <td>6.01</td>\n",
       "      <td>68.7</td>\n",
       "      <td>168.0</td>\n",
       "      <td>Run</td>\n",
       "      <td>2025-05-20T07:30:00Z</td>\n",
       "      <td>2.347</td>\n",
       "      <td>163.2</td>\n",
       "      <td>180.0</td>\n",
       "    </tr>\n",
       "    <tr>\n",
       "      <th>5</th>\n",
       "      <td>4.12</td>\n",
       "      <td>92.2</td>\n",
       "      <td>874.1</td>\n",
       "      <td>Walk</td>\n",
       "      <td>2025-05-19T19:45:26Z</td>\n",
       "      <td>1.200</td>\n",
       "      <td>102.8</td>\n",
       "      <td>161.0</td>\n",
       "    </tr>\n",
       "    <tr>\n",
       "      <th>6</th>\n",
       "      <td>5.50</td>\n",
       "      <td>73.8</td>\n",
       "      <td>232.3</td>\n",
       "      <td>Run</td>\n",
       "      <td>2025-05-18T17:34:04Z</td>\n",
       "      <td>1.999</td>\n",
       "      <td>149.7</td>\n",
       "      <td>170.0</td>\n",
       "    </tr>\n",
       "    <tr>\n",
       "      <th>7</th>\n",
       "      <td>4.51</td>\n",
       "      <td>52.8</td>\n",
       "      <td>34.8</td>\n",
       "      <td>Run</td>\n",
       "      <td>2025-05-16T10:10:11Z</td>\n",
       "      <td>2.293</td>\n",
       "      <td>174.4</td>\n",
       "      <td>192.0</td>\n",
       "    </tr>\n",
       "    <tr>\n",
       "      <th>8</th>\n",
       "      <td>2.55</td>\n",
       "      <td>29.1</td>\n",
       "      <td>207.0</td>\n",
       "      <td>Run</td>\n",
       "      <td>2025-05-13T12:47:05Z</td>\n",
       "      <td>2.354</td>\n",
       "      <td>163.2</td>\n",
       "      <td>182.0</td>\n",
       "    </tr>\n",
       "    <tr>\n",
       "      <th>9</th>\n",
       "      <td>6.04</td>\n",
       "      <td>69.5</td>\n",
       "      <td>207.0</td>\n",
       "      <td>Run</td>\n",
       "      <td>2025-05-11T12:53:14Z</td>\n",
       "      <td>2.334</td>\n",
       "      <td>169.3</td>\n",
       "      <td>189.0</td>\n",
       "    </tr>\n",
       "  </tbody>\n",
       "</table>\n",
       "</div>"
      ],
      "text/plain": [
       "   distance_miles  moving_time_mins  elevation_gain_ft  type  \\\n",
       "0            5.01              58.2              138.5   Run   \n",
       "1            3.02              40.5              112.9   Run   \n",
       "2            8.53              97.3              369.4   Run   \n",
       "3            4.99              55.8                0.0   Run   \n",
       "4            6.01              68.7              168.0   Run   \n",
       "5            4.12              92.2              874.1  Walk   \n",
       "6            5.50              73.8              232.3   Run   \n",
       "7            4.51              52.8               34.8   Run   \n",
       "8            2.55              29.1              207.0   Run   \n",
       "9            6.04              69.5              207.0   Run   \n",
       "\n",
       "       start_date_local  average_speed  average_heartrate  max_heartrate  \n",
       "0  2025-06-01T13:08:00Z          2.308              159.2          180.0  \n",
       "1  2025-05-28T17:35:23Z          1.995              145.0          158.0  \n",
       "2  2025-05-26T11:52:59Z          2.352              169.3          187.0  \n",
       "3  2025-05-23T09:14:03Z          2.394              161.9          180.0  \n",
       "4  2025-05-20T07:30:00Z          2.347              163.2          180.0  \n",
       "5  2025-05-19T19:45:26Z          1.200              102.8          161.0  \n",
       "6  2025-05-18T17:34:04Z          1.999              149.7          170.0  \n",
       "7  2025-05-16T10:10:11Z          2.293              174.4          192.0  \n",
       "8  2025-05-13T12:47:05Z          2.354              163.2          182.0  \n",
       "9  2025-05-11T12:53:14Z          2.334              169.3          189.0  "
      ]
     },
     "execution_count": 7,
     "metadata": {},
     "output_type": "execute_result"
    }
   ],
   "source": [
    "call_strava_and_format_response(activity_count=10)"
   ]
  },
  {
   "cell_type": "code",
   "execution_count": 8,
   "id": "faa5399e",
   "metadata": {},
   "outputs": [
    {
     "name": "stdout",
     "output_type": "stream",
     "text": [
      "200\n",
      "{'token_type': 'Bearer', 'access_token': '4f753b27c4216883055dd2ed091a62032add4821', 'expires_at': 1748989269, 'expires_in': 21024, 'refresh_token': 'c280cb6536c00d9cbcd05b660423cb5ee91e34c8'}\n"
     ]
    }
   ],
   "source": [
    "filtered_strava_results = call_strava_and_format_response(activity_count=10)"
   ]
  },
  {
   "cell_type": "code",
   "execution_count": 24,
   "id": "a576b9ef",
   "metadata": {},
   "outputs": [],
   "source": [
    "# create a prompt requesting an encouraging good morning message based on recent strava data\n",
    "\n",
    "def create_good_morning_strava_prompt():\n",
    "    \"\"\"this returns a PROMPT to request a good morning message that includes today's date and\n",
    "    an encouraging message based on the last 10 strava activities\"\"\"\n",
    "    # get latest 10 strava activities (returns a pd df)\n",
    "    filtered_strava_results = call_strava_and_format_response(activity_count=10)\n",
    "\n",
    "    # sort activities just in case\n",
    "    df = filtered_strava_results.sort_values(\"start_date_local\", ascending=False)\n",
    "\n",
    "    # Format each activity for the prompt\n",
    "    activity_lines = []\n",
    "    for _, row in df.iterrows():\n",
    "        date = pd.to_datetime(row['start_date_local']).strftime('%Y-%m-%d')\n",
    "        activity_type = row['type']\n",
    "        distance = f\"{row['distance_miles']:.2f} mi\"\n",
    "        time = f\"{row['moving_time_mins']:.1f} min\"\n",
    "        elev = f\"{row['elevation_gain_ft']:.0f} ft\"\n",
    "        avg_hr = f\"{row['average_heartrate']:.0f}\" if not pd.isnull(row['average_heartrate']) else \"N/A\"\n",
    "        max_hr = f\"{row['max_heartrate']:.0f}\" if not pd.isnull(row['max_heartrate']) else \"N/A\"\n",
    "        line = f\"{date}: {activity_type} - {distance}, {time}, {elev} gain, Avg HR: {avg_hr}, Max HR: {max_hr}\"\n",
    "        activity_lines.append(line)\n",
    "\n",
    "    # add date\n",
    "    today = datetime.now().strftime(\"%Y-%m-%d\")\n",
    "\n",
    "    # Create the prompt\n",
    "    activity_str = \"\\n\".join(activity_lines)\n",
    "    prompt = (\n",
    "        f\"Today is {today}.\\n\"\n",
    "        \"Here are my most recent Strava activities:\\n\"\n",
    "        f\"{activity_str}\\n\\n\"\n",
    "        \"\"\"Please send me a good morning text message that includes an encouraging message about my recent strava activity and incorporates today's date.\n",
    "        for example, you could tell me how my mileage this week compares to previous weeks or tell me if i've had a particularly fast run recently.\"\"\"\n",
    "    )\n",
    "\n",
    "    return(prompt)"
   ]
  },
  {
   "cell_type": "code",
   "execution_count": 25,
   "id": "02f205fd",
   "metadata": {},
   "outputs": [],
   "source": [
    "def call_large_model(instructions, prompt):\n",
    "    client = OpenAI()\n",
    "\n",
    "    # NOTES ON PROMPT ENGINEERING\n",
    "    # -- If you say it's an expert on history of SF as well as local flora/fauna and then ask for a fact, every fact will be about GGP being bigger than central park\n",
    "    # -- chatGPT seems to hallucinate a lot more via API than in the GUI even for the exact same model/prompt.\n",
    "\n",
    "    response = client.responses.create(\n",
    "        model=\"gpt-4.1\",\n",
    "        instructions = instructions,\n",
    "        input = prompt,\n",
    "    )\n",
    "\n",
    "    return(response.output_text)"
   ]
  },
  {
   "cell_type": "code",
   "execution_count": null,
   "id": "7291d76e",
   "metadata": {},
   "outputs": [],
   "source": [
    "\n",
    "# create function to send SMS message from my email (free) instead of using twilio\n",
    "def send_text_from_email(message_body=\"nobody told me what to say!\"):\n",
    "    \"\"\"takes a string and sends SMS from my email address\"\"\"\n",
    "    to_number = os.getenv('MY_CELL_EMAIL')\n",
    "    from_email = os.getenv(\"MY_EMAIL\")\n",
    "    app_password = os.getenv(\"GMAIL_APP_PASSWORD\")\n",
    "\n",
    "    # create message\n",
    "    msg = MIMEText(message_body)\n",
    "    msg['From'] = from_email\n",
    "    msg['To'] = to_number\n",
    "\n",
    "    # dale\n",
    "    with smtplib.SMTP_SSL('smtp.gmail.com', 465) as server:\n",
    "        server.login(from_email, app_password)\n",
    "        server.sendmail(from_email, [to_number], msg.as_string())\n",
    "\n",
    "    print(\"Sent!\")"
   ]
  },
  {
   "cell_type": "code",
   "execution_count": null,
   "id": "6a1d08f9",
   "metadata": {},
   "outputs": [
    {
     "name": "stdout",
     "output_type": "stream",
     "text": [
      "Sent!\n"
     ]
    }
   ],
   "source": [
    "instructions = \"\"\"You are a supportive life coach and personal trainer named Zeus Groos. Your trainee, Zach, is training for the New York Marathon on November 3 2025.\n",
    "            He is doing a half marathon training program that ends on June 29 and then he'll begin the full marathon training program. You should play the role of \n",
    "            an expert coach, giving general running advice as well as specific feedback tailored to your trainee's workout history. This will be sent via SMS - please format accordingly.\"\"\"\n",
    "\n",
    "prompt = create_good_morning_strava_prompt()\n",
    "\n",
    "message_body = call_large_model(instructions=instructions, prompt=prompt)\n",
    "\n",
    "send_text_from_email(message_body=message_body)"
   ]
  },
  {
   "cell_type": "code",
   "execution_count": null,
   "id": "ba9e4dbc",
   "metadata": {},
   "outputs": [
    {
     "name": "stdout",
     "output_type": "stream",
     "text": [
      "Message sent! SID: SMe46f871f3aea24ef7b0d4527567464fb\n",
      "Message status: queued\n"
     ]
    }
   ],
   "source": [
    "# # Load environment variables from .env file\n",
    "# load_dotenv()\n",
    "\n",
    "# account_sid = os.getenv(\"TWILIO_ACCOUNT_SID\")\n",
    "# auth_token = os.getenv(\"TWILIO_AUTH_TOKEN\")\n",
    "# twilio_number = os.getenv(\"TWILIO_PHONE_NUMBER\")\n",
    "# my_cell = os.getenv(\"MY_CELL_NUMBER\")\n",
    "# # my_cell = \"+17147560044\"\n",
    "\n",
    "# twilio_client = Client(account_sid, auth_token)\n",
    "\n",
    "# message = twilio_client.messages.create(\n",
    "#     body=\"Sent from your Twilio trial account - Hello from Twilio!\",\n",
    "#     from_=twilio_number,\n",
    "#     to=my_cell\n",
    "# )\n",
    "\n",
    "# print(f\"Message sent! SID: {message.sid}\")\n",
    "# print(f\"Message status: {message.status}\")"
   ]
  },
  {
   "cell_type": "code",
   "execution_count": null,
   "id": "3fa1c609",
   "metadata": {},
   "outputs": [],
   "source": []
  },
  {
   "cell_type": "code",
   "execution_count": 36,
   "id": "e9f33748",
   "metadata": {},
   "outputs": [
    {
     "name": "stdout",
     "output_type": "stream",
     "text": [
      "Sent!\n"
     ]
    }
   ],
   "source": [
    "send_text_from_email()"
   ]
  },
  {
   "cell_type": "code",
   "execution_count": null,
   "id": "88d6a3ee",
   "metadata": {},
   "outputs": [],
   "source": []
  }
 ],
 "metadata": {
  "kernelspec": {
   "display_name": "Python (zeus-groos-ai)",
   "language": "python",
   "name": "zeus-groos-ai"
  },
  "language_info": {
   "codemirror_mode": {
    "name": "ipython",
    "version": 3
   },
   "file_extension": ".py",
   "mimetype": "text/x-python",
   "name": "python",
   "nbconvert_exporter": "python",
   "pygments_lexer": "ipython3",
   "version": "3.9.6"
  }
 },
 "nbformat": 4,
 "nbformat_minor": 5
}
